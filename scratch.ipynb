{
 "cells": [
  {
   "cell_type": "code",
   "execution_count": 7,
   "metadata": {},
   "outputs": [],
   "source": [
    "from keras.datasets import mnist\n",
    "import numpy as np\n",
    "import matplotlib.pyplot as plt\n",
    "\n",
    "# desired architecture: \n",
    "#     3 layer nn (300,150)\n",
    "#     softmax activation layer\n",
    "#     cross entropy loss (gradients will have to be accordingly made to be different for each output)"
   ]
  },
  {
   "cell_type": "code",
   "execution_count": 8,
   "metadata": {},
   "outputs": [
    {
     "name": "stdout",
     "output_type": "stream",
     "text": [
      "train_x shape: (60000, 28, 28)\n",
      "train_y shape: (60000,)\n",
      "test_x shape: (10000, 28, 28)\n",
      "test_y shape: (10000,)\n"
     ]
    }
   ],
   "source": [
    "(train_x, train_y), (test_x, test_y) = mnist.load_data()\n",
    "#train_y = np.reshape(train_y,(train_y.shape[0],1))\n",
    "#test_y = np.reshape(test_y,(test_y.shape[0],1))\n",
    "\n",
    "print(\"train_x shape: {}\".format(train_x.shape))\n",
    "print(\"train_y shape: {}\".format(train_y.shape))\n",
    "print(\"test_x shape: {}\".format(test_x.shape))\n",
    "print(\"test_y shape: {}\".format(test_y.shape))"
   ]
  },
  {
   "cell_type": "code",
   "execution_count": 107,
   "metadata": {},
   "outputs": [],
   "source": [
    "\n",
    "def plot_image(idx, dataset=\"train\"):\n",
    "    x = train_x[idx] if dataset == \"train\" else test_x[idx]\n",
    "    y = train_y[idx] if dataset == \"train\" else test_y[idx]\n",
    "    print(\"Showing pixel plot of a {} from {} dataset\".format(y, dataset))\n",
    "    plt.imshow(x)\n",
    "\n",
    "\n",
    "def one_hot_encode(digit: int) -> np.array:\n",
    "    encoded = np.zeros(10)\n",
    "    encoded[digit] = 1\n",
    "    return encoded\n",
    "\n",
    "\n",
    "def reverse_encode(encoded_Y):\n",
    "    return np.argmax(encoded_Y, axis=0)\n",
    "\n",
    "\n",
    "def format_X(X: np.array) -> np.array:\n",
    "    #assumes X is in the format (m x n0 x n1) where m is num samples, and n0 and n1 have to be collapsed into one frame\n",
    "    return np.reshape(X, (X.shape[0], X.shape[1]*X.shape[2])).T/255\n",
    "\n",
    "\n",
    "def format_Y(Y: np.array) -> np.array:\n",
    "    return np.array([one_hot_encode(y) for y in Y]).T\n",
    "\n",
    "\n",
    "class Net:\n",
    "    #input size can be variable, output layer will be a softmax of size given by train_Y\n",
    "    # X needs to be of the shape n x m, where m is num samples, n is num inputs\n",
    "    # Y needs to be of the shape o x m, where m is num samples, o is number of neurons in softmax layer\n",
    "    def __init__(self, layer_dims, train_X, train_Y):\n",
    "\n",
    "        self.raw_X = train_X\n",
    "        self.raw_Y = train_Y\n",
    "        self.train_X = format_X(train_X)\n",
    "        self.train_Y = format_Y(train_Y)\n",
    "        self.output_size = self.train_Y.shape[0]\n",
    "        self.input_size = self.train_X.shape[0]\n",
    "        assert(self.train_X.shape[1] == self.train_Y.shape[1])\n",
    "        self.sample_size = train_X.shape[1]\n",
    "\n",
    "        self.weights = [np.random.randn(layer_dims[0], self.input_size)]\n",
    "        self.biases = [np.zeros((l_d, 1)) for l_d in layer_dims]\n",
    "\n",
    "        for idx, l_d in enumerate(layer_dims[1:], 1):\n",
    "            self.weights.append(np.random.randn(\n",
    "                l_d, self.weights[idx-1].shape[0]))\n",
    "\n",
    "        self.weights.append(np.random.randn(self.output_size, layer_dims[-1]))\n",
    "        self.biases.append(np.zeros((self.output_size, 1)))\n",
    "\n",
    "        self.reset_cache(self.train_X)\n",
    "\n",
    "    @classmethod\n",
    "    def reset_cache(self,X):\n",
    "        self.cache = {\n",
    "            'A': [X],\n",
    "            # just so that Z[i] corresponds to the Z of the i-th layer (as opposed to i-1)\n",
    "            'Z': [None],\n",
    "            'dA': [],\n",
    "            'dZ': [],\n",
    "            'dW': [],\n",
    "            'dB': [],\n",
    "        }\n",
    "\n",
    "    @staticmethod\n",
    "    def sigmoid(z):\n",
    "        return 1/(1+np.exp(z))\n",
    "\n",
    "    @staticmethod\n",
    "    def softmax(z):\n",
    "        \"\"\"computing softmax in a numerically stable way\"\"\"\n",
    "        offset = z - np.max(z, axis=0)\n",
    "        e_offset = np.exp(offset)\n",
    "        return e_offset/np.sum(e_offset, axis=0, keepdims=True)\n",
    "\n",
    "    @staticmethod\n",
    "    def compute_cross_entropy_loss(Y, Yhat):\n",
    "        \"\"\"assumes Y and Yhat are of the shape (O x m ) where m is number of samples, o is ouputs\"\"\"\n",
    "        assert (Y.shape == Yhat.shape)\n",
    "        m = Y.shape[1]\n",
    "        # Loss matrix over all samples, add constant to avoid -inf\n",
    "        L = -np.multiply(Y, np.log(Yhat + 1e-8))\n",
    "        J = (1/m)*np.sum(np.sum(L, axis=1))\n",
    "        return J\n",
    "\n",
    "    @staticmethod\n",
    "    def calculate_accuracy(Y, y_pred):\n",
    "        assert(Y.shape == y_pred.shape)\n",
    "        return np.sum(Y == y_pred)*100/y_pred.shape[0]\n",
    "\n",
    "    @staticmethod\n",
    "    def plot_costs(costs):\n",
    "        plt.figure()\n",
    "        plt.plot(costs)\n",
    "        plt.xlabel(\"epochs\")\n",
    "        plt.ylabel(\"cost\")\n",
    "        plt.show()\n",
    "\n",
    "    @staticmethod\n",
    "    def plot_accuracy(acc):\n",
    "        plt.figure()\n",
    "        plt.plot(acc)\n",
    "        plt.xlabel(\"epochs\")\n",
    "        plt.ylabel(\"acc\")\n",
    "        plt.show()\n",
    "\n",
    "        \n",
    "    def forward_propagate(self):\n",
    "        for idx, W in enumerate(self.weights[:-1], 1):\n",
    "            self.cache['Z'].append(np.dot(W, self.cache['A'][idx-1]) + self.biases[idx-1])\n",
    "            self.cache['A'].append(self.sigmoid(self.cache['Z'][idx]))\n",
    "            \n",
    "        self.cache['Z'].append(np.dot(self.weights[-1], self.cache['A'][-1]) + self.biases[-1])\n",
    "        self.cache['A'].append(self.softmax(self.cache['Z'][-1]))\n",
    "\n",
    "        return self.cache['A'][-1]  # Yhat\n",
    "\n",
    "\n",
    "    def back_propagate(self, Y):\n",
    "        \"\"\" back propapate final softmax layer individually, then loop through the remaining sigmoid layers to backprop\"\"\"\n",
    "        m = Y.shape[1]\n",
    "        dJ_dZ = self.cache['A'][-1] - Y\n",
    "        dZ_dA = self.weights[-1]\n",
    "        dZ_dW = self.cache['A'][-1]\n",
    "\n",
    "        self.cache['dW'].append(np.dot(dJ_dZ, self.cache['A'][-2].T)/m)  # very important:\n",
    "        # these derivatives are in reverse order, meaning:\n",
    "        self.cache['dB'].append(np.sum(dJ_dZ, axis=1, keepdims=True)/m)\n",
    "        # the 0th derivative is for the last layer\n",
    "        self.cache['dA'].append(np.dot(self.weights[-1].T, dJ_dZ))\n",
    "\n",
    "        num_layers = len(self.weights) - 1\n",
    "\n",
    "        for idx,W in reversed(list(enumerate(self.weights[:-1], 1))):\n",
    "            dJ_dZ = self.cache['dA'][num_layers-idx]*self.cache['A'][idx] * (1 - self.cache['A'][idx])  # sigmoid derivative\n",
    "            self.cache['dW'].append(np.dot(dJ_dZ, self.cache['A'][idx-1].T)/m)\n",
    "            self.cache['dB'].append(np.sum(dJ_dZ, axis=1, keepdims=True)/m)\n",
    "            self.cache['dA'].append(np.dot(W.T,dJ_dZ))\n",
    "\n",
    "\n",
    "    def update_params(self, alpha):\n",
    "        num_layers = len(self.weights)\n",
    "        for idx in range(num_layers):\n",
    "            self.weights[idx] -= alpha*self.cache['dW'][num_layers - idx-1]\n",
    "            self.biases[idx] -= alpha*self.cache['dB'][num_layers - idx -1]\n",
    "\n",
    "    def train_model(self, epochs=15,batch_size = 600):\n",
    "        costs = []\n",
    "        accuracy = []\n",
    "        X = self.train_X\n",
    "        Y = self.train_Y\n",
    "        raw_Y = self.raw_Y\n",
    "        for i in range(epochs):\n",
    "            increment = X.shape[1]/batch_size\n",
    "            lower = 0\n",
    "            upper = batch_size\n",
    "            for batch in range(int(increment)):\n",
    "                mini_X = X[:,lower:upper]\n",
    "                mini_Y = Y[:,lower:upper]\n",
    "                mini_raw_Y = raw_Y[lower:upper]\n",
    "                self.reset_cache(mini_X)\n",
    "                Yhat = self.forward_propagate()\n",
    "                costs.append(self.compute_cross_entropy_loss(mini_Y, Yhat))\n",
    "                Y_pred = reverse_encode(Yhat)\n",
    "                accuracy.append(self.calculate_accuracy(mini_raw_Y, Y_pred))\n",
    "                self.back_propagate(mini_Y)\n",
    "                self.update_params(alpha =0.1)\n",
    "                lower = upper\n",
    "                upper += batch_size\n",
    "            if i % 10 == 0:\n",
    "                print(\"COST after {} epochs: {}\".format(i, costs[-1]))\n",
    "                print(\"Accuracy after {} epochs: {}\".format(i, accuracy[-1]))\n",
    "        self.plot_costs(costs)\n",
    "        self.plot_accuracy(accuracy)\n",
    "        return (costs,accuracy)\n",
    "\n",
    "    def predict(self, test_X, test_Y):\n",
    "        X = format_X(test_X)\n",
    "        Y = test_Y #no need to encode\n",
    "        self.reset_cache(X)\n",
    "        Yhat = self.forward_propagate()\n",
    "        Y_pred = reverse_encode(Yhat)\n",
    "        accuracy = self.calculate_accuracy(Y,Y_pred)\n",
    "        return (accuracy,Y_pred)\n"
   ]
  },
  {
   "cell_type": "code",
   "execution_count": 109,
   "metadata": {},
   "outputs": [
    {
     "name": "stdout",
     "output_type": "stream",
     "text": [
      "COST after 0 epochs: 16.086858807216124\n",
      "Accuracy after 0 epochs: 2.5\n",
      "COST after 10 epochs: 3.52715421360301\n",
      "Accuracy after 10 epochs: 49.166666666666664\n",
      "COST after 20 epochs: 2.092212720055512\n",
      "Accuracy after 20 epochs: 64.0\n",
      "COST after 30 epochs: 1.605275048314633\n",
      "Accuracy after 30 epochs: 71.0\n",
      "COST after 40 epochs: 1.2714435611785344\n",
      "Accuracy after 40 epochs: 74.0\n"
     ]
    },
    {
     "data": {
      "image/png": "[encoded data removed]",
      "text/plain": [
       "<Figure size 432x288 with 1 Axes>"
      ]
     },
     "metadata": {
      "needs_background": "light"
     },
     "output_type": "display_data"
    },
    {
     "data": {
      "image/png": "[encoded data removed]",
      "text/plain": [
       "<Figure size 432x288 with 1 Axes>"
      ]
     },
     "metadata": {
      "needs_background": "light"
     },
     "output_type": "display_data"
    }
   ],
   "source": [
    "nn = Net([800],train_x,train_y)\n",
    "cost, accuracy = nn.train_model(epochs = 50,batch_size = 600)"
   ]
  },
  {
   "cell_type": "code",
   "execution_count": 110,
   "metadata": {},
   "outputs": [
    {
     "name": "stdout",
     "output_type": "stream",
     "text": [
      "(784, 10000)\n"
     ]
    }
   ],
   "source": [
    "accuracy,y_pred = nn.predict(test_x,test_y)"
   ]
  },
  {
   "cell_type": "code",
   "execution_count": 125,
   "metadata": {},
   "outputs": [
    {
     "name": "stdout",
     "output_type": "stream",
     "text": [
      "Showing pixel plot of a 6 from test dataset\n",
      "6\n"
     ]
    },
    {
     "data": {
      "image/png": "[encoded data removed]",
      "text/plain": [
       "<Figure size 432x288 with 1 Axes>"
      ]
     },
     "metadata": {
      "needs_background": "light"
     },
     "output_type": "display_data"
    }
   ],
   "source": [
    "def check_results(idx):\n",
    "    plot_image(idx,dataset=\"test\")\n",
    "    print(y_pred[idx])\n",
    "\n",
    "check_results(11)"
   ]
  },
  {
   "cell_type": "code",
   "execution_count": 117,
   "metadata": {},
   "outputs": [
    {
     "data": {
      "text/plain": [
       "6"
      ]
     },
     "execution_count": 117,
     "metadata": {},
     "output_type": "execute_result"
    }
   ],
   "source": []
  },
  {
   "cell_type": "code",
   "execution_count": null,
   "metadata": {},
   "outputs": [],
   "source": []
  }
 ],
 "metadata": {
  "kernelspec": {
   "display_name": "nn",
   "language": "python",
   "name": "nn"
  },
  "language_info": {
   "codemirror_mode": {
    "name": "ipython",
    "version": 3
   },
   "file_extension": ".py",
   "mimetype": "text/x-python",
   "name": "python",
   "nbconvert_exporter": "python",
   "pygments_lexer": "ipython3",
   "version": "3.7.10"
  }
 },
 "nbformat": 4,
 "nbformat_minor": 2
}
