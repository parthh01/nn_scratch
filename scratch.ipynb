{
 "cells": [
  {
   "cell_type": "code",
   "execution_count": 19,
   "metadata": {},
   "outputs": [],
   "source": [
    "from keras.datasets import mnist\n",
    "import numpy as np\n",
    "\n",
    "\n",
    "# desired architecture: \n",
    "#     3 layer nn (300,150)\n",
    "#     softmax activation layer\n",
    "#     cross entropy loss (gradients will have to be accordingly made to be different for each output (jacobian))"
   ]
  },
  {
   "cell_type": "code",
   "execution_count": 32,
   "metadata": {},
   "outputs": [
    {
     "name": "stdout",
     "output_type": "stream",
     "text": [
      "train_x shape: (60000, 28, 28)\n",
      "train_y shape: (60000,)\n",
      "test_x shape: (10000, 28, 28)\n",
      "test_y shape: (10000,)\n"
     ]
    }
   ],
   "source": [
    "(train_x, train_y), (test_x, test_y) = mnist.load_data()\n",
    "#train_y = np.reshape(train_y,(train_y.shape[0],1))\n",
    "#test_y = np.reshape(test_y,(test_y.shape[0],1))\n",
    "\n",
    "print(\"train_x shape: {}\".format(train_x.shape))\n",
    "print(\"train_y shape: {}\".format(train_y.shape))\n",
    "print(\"test_x shape: {}\".format(test_x.shape))\n",
    "print(\"test_y shape: {}\".format(test_y.shape))"
   ]
  },
  {
   "cell_type": "code",
   "execution_count": 66,
   "metadata": {},
   "outputs": [],
   "source": [
    "\n",
    "def one_hot_encode(digit: int) -> np.array:\n",
    "    encoded = np.zeros(10)\n",
    "    encoded[digit] = 1\n",
    "    return encoded\n",
    "\n",
    "\n",
    "def format_X(X: np.array) -> np.array:\n",
    "    #assumes X is in the format (m x n0 x n1) where m is num samples, and n0 and n1 have to be collapsed into one frame\n",
    "    return np.reshape(X,(X.shape[0],X.shape[1]*X.shape[2])).T\n",
    "\n",
    "def format_Y(Y: np.array) -> np.array:\n",
    "    return np.array([one_hot_encode(y) for y in Y])\n",
    "\n",
    "class Net: \n",
    "    #input size can be variable, output layer will be a softmax of size given by train_Y\n",
    "    # X needs to be of the shape n x m, where m is num samples, n is num inputs\n",
    "    # Y needs to be of the shape o x m, where m is num samples, o is number of neurons in softmax layer\n",
    "    def __init__(self,layer_dims,train_X,train_Y):\n",
    "        self.weights = [np.random.randn(layer_dims[0],train_X)]\n",
    "        self.biases = [np.zeros(np.zeros((l_d,1))) for l_d in layer_dims]\n",
    "        for idx,l_d in enumerate(layer_dims[1:],1):\n",
    "            self.weights.append(np.random.randn(l_d,))\n",
    "    \n",
    "    @staticmethod\n",
    "    def sigmoid(z):\n",
    "        return 1/(1+np.exp(z))\n",
    "    \n",
    "    @staticmethod\n",
    "    def softmax(z):\n",
    "        return z/np.sum(z)\n",
    "    \n",
    "    \n",
    "        \n"
   ]
  },
  {
   "cell_type": "code",
   "execution_count": 65,
   "metadata": {},
   "outputs": [
    {
     "name": "stdout",
     "output_type": "stream",
     "text": [
      "(784, 60000)\n",
      "(60000, 10)\n"
     ]
    }
   ],
   "source": [
    "formatted_X = format_X(train_x)\n",
    "formatted_Y = format_Y(train_y)\n",
    "print(formatted_X.shape)\n",
    "print(formatted_Y.shape)"
   ]
  },
  {
   "cell_type": "code",
   "execution_count": 85,
   "metadata": {},
   "outputs": [
    {
     "data": {
      "text/plain": [
       "array([0., 0., 0., 0., 0., 0., 0., 0., 0., 0.])"
      ]
     },
     "execution_count": 85,
     "metadata": {},
     "output_type": "execute_result"
    }
   ],
   "source": [
    "np.zeros((10))"
   ]
  },
  {
   "cell_type": "code",
   "execution_count": null,
   "metadata": {},
   "outputs": [],
   "source": []
  }
 ],
 "metadata": {
  "kernelspec": {
   "display_name": "nn",
   "language": "python",
   "name": "nn"
  },
  "language_info": {
   "codemirror_mode": {
    "name": "ipython",
    "version": 3
   },
   "file_extension": ".py",
   "mimetype": "text/x-python",
   "name": "python",
   "nbconvert_exporter": "python",
   "pygments_lexer": "ipython3",
   "version": "3.7.10"
  }
 },
 "nbformat": 4,
 "nbformat_minor": 2
}
