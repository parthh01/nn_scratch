{
 "cells": [
  {
   "cell_type": "code",
   "execution_count": 2,
   "metadata": {},
   "outputs": [],
   "source": [
    "from keras.datasets import mnist\n",
    "import numpy as np\n",
    "import matplotlib.pyplot as plt\n",
    "\n",
    "# desired architecture: \n",
    "#     3 layer nn (300,150)\n",
    "#     softmax activation layer\n",
    "#     cross entropy loss (gradients will have to be accordingly made to be different for each output (jacobian))"
   ]
  },
  {
   "cell_type": "code",
   "execution_count": 19,
   "metadata": {},
   "outputs": [
    {
     "name": "stdout",
     "output_type": "stream",
     "text": [
      "train_x shape: (60000, 28, 28)\n",
      "train_y shape: (60000,)\n",
      "test_x shape: (10000, 28, 28)\n",
      "test_y shape: (10000,)\n"
     ]
    }
   ],
   "source": [
    "(train_x, train_y), (test_x, test_y) = mnist.load_data()\n",
    "#train_y = np.reshape(train_y,(train_y.shape[0],1))\n",
    "#test_y = np.reshape(test_y,(test_y.shape[0],1))\n",
    "\n",
    "print(\"train_x shape: {}\".format(train_x.shape))\n",
    "print(\"train_y shape: {}\".format(train_y.shape))\n",
    "print(\"test_x shape: {}\".format(test_x.shape))\n",
    "print(\"test_y shape: {}\".format(test_y.shape))"
   ]
  },
  {
   "cell_type": "code",
   "execution_count": 71,
   "metadata": {},
   "outputs": [],
   "source": [
    "\n",
    "def plot_image(idx,dataset=\"train\"):\n",
    "    x  = train_x[idx] if dataset == \"train\" else test_x[idx]\n",
    "    y = train_y[idx] if dataset == \"train\" else test_y[idx]\n",
    "    print(\"Showing pixel plot of a {} from {} dataset\".format(y,dataset))\n",
    "    plt.imshow(x)\n",
    "\n",
    "\n",
    "def one_hot_encode(digit: int) -> np.array:\n",
    "    encoded = np.zeros(10)\n",
    "    encoded[digit] = 1\n",
    "    return encoded\n",
    "\n",
    "\n",
    "def format_X(X: np.array) -> np.array:\n",
    "    #assumes X is in the format (m x n0 x n1) where m is num samples, and n0 and n1 have to be collapsed into one frame\n",
    "    return np.reshape(X,(X.shape[0],X.shape[1]*X.shape[2])).T\n",
    "\n",
    "def format_Y(Y: np.array) -> np.array:\n",
    "    return np.array([one_hot_encode(y) for y in Y]).T\n",
    "\n",
    "class Net: \n",
    "    #input size can be variable, output layer will be a softmax of size given by train_Y\n",
    "    # X needs to be of the shape n x m, where m is num samples, n is num inputs\n",
    "    # Y needs to be of the shape o x m, where m is num samples, o is number of neurons in softmax layer\n",
    "    def __init__(self,layer_dims,train_X,train_Y):\n",
    "        \n",
    "        self.train_X = train_X\n",
    "        self.train_Y = train_Y\n",
    "        self.output_size = train_Y.shape[0]\n",
    "        self.input_size = train_X.shape[0] \n",
    "        assert(train_X.shape[1] == train_Y.shape[1])\n",
    "        self.sample_size = train_X.shape[1]\n",
    "        \n",
    "        self.weights = [np.random.randn(layer_dims[0],self.input_size)]\n",
    "        self.biases = [np.zeros(np.zeros((l_d,1))) for l_d in layer_dims]\n",
    "\n",
    "        \n",
    "        for idx,l_d in enumerate(layer_dims[1:],1):\n",
    "            self.weights.append(np.random.randn(l_d,self.weights[idx-1].shape[0]))\n",
    "            \n",
    "        self.weights.append(np.random.randn(self.output_size,layer_dims[-1]))\n",
    "        self.biases.append(np.zeros(self.output_size,1))\n",
    "    \n",
    "        self.cache = {\n",
    "            'A': [self.train_X],\n",
    "            'Z': [None], # just so that Z[i] corresponds to the Z of the i-th layer (as opposed to i-1)\n",
    "            'dA': [],\n",
    "            'dZ': [], \n",
    "            'dW': [], \n",
    "            'dB': [],\n",
    "        }\n",
    "    \n",
    "    @staticmethod\n",
    "    def sigmoid(z):\n",
    "        return 1/(1+np.exp(z))\n",
    "    \n",
    "    @staticmethod\n",
    "    def softmax(z):\n",
    "        \"\"\"computing softmax in a numerically stable way\"\"\"\n",
    "        offset = z - np.max(z,axis=0)\n",
    "        e_offset = np.exp(offset)\n",
    "        return e_offset/np.sum(e_offset)\n",
    "    \n",
    "    \n",
    "    \n",
    "    @staticmethod\n",
    "    def compute_cross_entropy_loss(Y,Yhat):\n",
    "        \"\"\"assumes Y and Yhat are of the shape (O x m ) where m is number of samples, o is ouputs\"\"\"\n",
    "        assert (Y.shape == Yhat.shape)\n",
    "        m = Y.shape[1]\n",
    "        L = -np.multiply(Y,np.log(Yhat)) # Loss matrix over all samples\n",
    "        J = (1/m)*np.sum(np.sum(L,axis=1))\n",
    "        return J \n",
    "    \n",
    "       \n",
    "    \n",
    "    @classmethod\n",
    "    def forward_propagate(self):\n",
    "        for idx,W in enumerate(self.weights[:-1],1):\n",
    "            self.cache['Z'].append(np.dot(W,self.cache['A'][idx-1]) + self.biases[idx])\n",
    "            self.cache['A'].append(self.sigmoid(self.cache['Z'][idx]))\n",
    "        \n",
    "        self.cache['Z'].append(np.dot(W,self.cache['A'][-1]) + self.biases[-1])\n",
    "        self.cache['A'].append(self.softmax(self.cache['Z'][-1]))\n",
    "        \n",
    "        \n",
    "        return self.cache['A'][-1] #Yhat \n",
    "    \n",
    "    @classmethod\n",
    "    def back_propagate(self,Y):\n",
    "        \"\"\" back propapate final softmax layer individually, then loop through the remaining sigmoid layers to backprop\"\"\"\n",
    "        m = Y.shape[1]\n",
    "        dJ_dZ = self.A[-1] - Y\n",
    "        dZ_dA = self.weights[-1]\n",
    "        dZ_dW = self.A[-1]\n",
    "        \n",
    "        self.cache['dW'].insert(0,np.dot(dJ_dZ,dZ_dW.T)/m)\n",
    "        self.cache['dB'].insert(0,np.sum(dJ_dZ,axis=1)/m)\n",
    "        self.cache['dA'].insert(0,np.dot(self.weights[-1].T,dJ_dZ))\n",
    "        \n",
    "        for idx,weights in reversed(list(enumerate(self.weights))):\n",
    "            \n",
    "        \n",
    "    \n",
    "        \n"
   ]
  },
  {
   "cell_type": "code",
   "execution_count": 28,
   "metadata": {},
   "outputs": [
    {
     "name": "stdout",
     "output_type": "stream",
     "text": [
      "(784, 60000)\n",
      "(10, 60000)\n"
     ]
    }
   ],
   "source": [
    "formatted_X = format_X(train_x)\n",
    "formatted_Y = format_Y(train_y)\n",
    "print(formatted_X.shape)\n",
    "print(formatted_Y.shape)"
   ]
  },
  {
   "cell_type": "code",
   "execution_count": 73,
   "metadata": {},
   "outputs": [
    {
     "data": {
      "text/plain": [
       "array([3000, 6000, 9000])"
      ]
     },
     "execution_count": 73,
     "metadata": {},
     "output_type": "execute_result"
    }
   ],
   "source": [
    "Net.softmax([[1000,2000,3000],[1000,2000,3000],[1000,2000,3000]])\n",
    "np.sum([[1000,2000,3000],[1000,2000,3000],[1000,2000,3000]],axis=0)"
   ]
  },
  {
   "cell_type": "code",
   "execution_count": 76,
   "metadata": {},
   "outputs": [
    {
     "data": {
      "text/plain": [
       "array([3, 6, 9])"
      ]
     },
     "execution_count": 76,
     "metadata": {},
     "output_type": "execute_result"
    }
   ],
   "source": [
    "r = [[1,1,1],[2,2,2],[3,3,3]]\n",
    "\n",
    "np.sum(r,axis=1)"
   ]
  },
  {
   "cell_type": "code",
   "execution_count": 82,
   "metadata": {},
   "outputs": [
    {
     "name": "stdout",
     "output_type": "stream",
     "text": [
      "0 3\n",
      "1 2\n",
      "2 1\n"
     ]
    }
   ],
   "source": []
  },
  {
   "cell_type": "code",
   "execution_count": null,
   "metadata": {},
   "outputs": [],
   "source": []
  }
 ],
 "metadata": {
  "kernelspec": {
   "display_name": "nn",
   "language": "python",
   "name": "nn"
  },
  "language_info": {
   "codemirror_mode": {
    "name": "ipython",
    "version": 3
   },
   "file_extension": ".py",
   "mimetype": "text/x-python",
   "name": "python",
   "nbconvert_exporter": "python",
   "pygments_lexer": "ipython3",
   "version": "3.7.10"
  }
 },
 "nbformat": 4,
 "nbformat_minor": 2
}
